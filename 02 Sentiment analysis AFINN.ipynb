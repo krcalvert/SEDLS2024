{
 "cells": [
  {
   "cell_type": "code",
   "execution_count": 15,
   "id": "c6620242",
   "metadata": {},
   "outputs": [],
   "source": [
    "#https://github.com/fnielsen/afinn\n",
    "\n",
    "#Libraries\n",
    "import pandas as pd\n",
    "import numpy as np\n",
    "from afinn import Afinn\n",
    "import timeit"
   ]
  },
  {
   "cell_type": "code",
   "execution_count": 2,
   "id": "e1e3b48f",
   "metadata": {},
   "outputs": [],
   "source": [
    "afn = Afinn()"
   ]
  },
  {
   "cell_type": "code",
   "execution_count": 3,
   "id": "488f365e",
   "metadata": {},
   "outputs": [],
   "source": [
    "chats = pd.read_csv('sedlc_cleaned_chats.csv')"
   ]
  },
  {
   "cell_type": "code",
   "execution_count": 16,
   "id": "e58818ad",
   "metadata": {},
   "outputs": [
    {
     "name": "stdout",
     "output_type": "stream",
     "text": [
      "61.21515879999993\n"
     ]
    }
   ],
   "source": [
    "# start runtime timer\n",
    "start = timeit.default_timer()\n",
    "\n",
    "# analyze chats\n",
    "chats[\"AFINN\"] = chats[\"clean_text\"].apply(lambda chat:afn.score(str(chat)))\n",
    "\n",
    "# stop runtime timer\n",
    "stop = timeit.default_timer()\n",
    "\n",
    "AFINN_time = stop - start  \n",
    "print(AFINN_time)\n",
    "\n"
   ]
  },
  {
   "cell_type": "code",
   "execution_count": 5,
   "id": "5b9db94e",
   "metadata": {},
   "outputs": [
    {
     "data": {
      "text/html": [
       "<div>\n",
       "<style scoped>\n",
       "    .dataframe tbody tr th:only-of-type {\n",
       "        vertical-align: middle;\n",
       "    }\n",
       "\n",
       "    .dataframe tbody tr th {\n",
       "        vertical-align: top;\n",
       "    }\n",
       "\n",
       "    .dataframe thead th {\n",
       "        text-align: right;\n",
       "    }\n",
       "</style>\n",
       "<table border=\"1\" class=\"dataframe\">\n",
       "  <thead>\n",
       "    <tr style=\"text-align: right;\">\n",
       "      <th></th>\n",
       "      <th>AFINN</th>\n",
       "    </tr>\n",
       "  </thead>\n",
       "  <tbody>\n",
       "    <tr>\n",
       "      <th>AFINN_Score</th>\n",
       "      <td>14.169394</td>\n",
       "    </tr>\n",
       "  </tbody>\n",
       "</table>\n",
       "</div>"
      ],
      "text/plain": [
       "                 AFINN\n",
       "AFINN_Score  14.169394"
      ]
     },
     "execution_count": 5,
     "metadata": {},
     "output_type": "execute_result"
    }
   ],
   "source": [
    "#Summary table\n",
    "chats.agg(AFINN_Score = (\"AFINN\", \"mean\"))"
   ]
  },
  {
   "cell_type": "code",
   "execution_count": 17,
   "id": "8a2f3df6",
   "metadata": {},
   "outputs": [],
   "source": [
    "# Save lowest AFINN score\n",
    "\n",
    "AFINN_min =  chats[chats.index==chats[\"AFINN\"].idxmin()]"
   ]
  },
  {
   "cell_type": "code",
   "execution_count": 13,
   "id": "8d70d0d5",
   "metadata": {},
   "outputs": [],
   "source": [
    "# Selected chats\n",
    "\n",
    "x = [8176393, 8225913, 9764138, 9875545]\n",
    "\n",
    "sample_chats = chats.loc[chats['id'].isin(x)]\n"
   ]
  },
  {
   "cell_type": "code",
   "execution_count": 14,
   "id": "fa36165a-7db4-4e22-8370-305247419b70",
   "metadata": {},
   "outputs": [
    {
     "data": {
      "text/html": [
       "<div>\n",
       "<style scoped>\n",
       "    .dataframe tbody tr th:only-of-type {\n",
       "        vertical-align: middle;\n",
       "    }\n",
       "\n",
       "    .dataframe tbody tr th {\n",
       "        vertical-align: top;\n",
       "    }\n",
       "\n",
       "    .dataframe thead th {\n",
       "        text-align: right;\n",
       "    }\n",
       "</style>\n",
       "<table border=\"1\" class=\"dataframe\">\n",
       "  <thead>\n",
       "    <tr style=\"text-align: right;\">\n",
       "      <th></th>\n",
       "      <th>Unnamed: 0</th>\n",
       "      <th>duration</th>\n",
       "      <th>id</th>\n",
       "      <th>protocol</th>\n",
       "      <th>referrer</th>\n",
       "      <th>started</th>\n",
       "      <th>started_day_of_week</th>\n",
       "      <th>text</th>\n",
       "      <th>wait</th>\n",
       "      <th>clean_text</th>\n",
       "      <th>AFINN</th>\n",
       "    </tr>\n",
       "  </thead>\n",
       "  <tbody>\n",
       "    <tr>\n",
       "      <th>2698</th>\n",
       "      <td>2714</td>\n",
       "      <td>00:12:33</td>\n",
       "      <td>8225913</td>\n",
       "      <td>web</td>\n",
       "      <td>https://researchguides.wcu.edu/help</td>\n",
       "      <td>2019-03-04 08:29:55</td>\n",
       "      <td>Monday</td>\n",
       "      <td>08:29AM 97qmsbabp9s096@web.libraryh3lp.com: Go...</td>\n",
       "      <td>00:00:09</td>\n",
       "      <td>good morning good morning how may i help you? ...</td>\n",
       "      <td>33.0</td>\n",
       "    </tr>\n",
       "    <tr>\n",
       "      <th>2873</th>\n",
       "      <td>2889</td>\n",
       "      <td>00:13:40</td>\n",
       "      <td>8176393</td>\n",
       "      <td>web</td>\n",
       "      <td>https://www.wcu.edu/hunter-library/index.aspx</td>\n",
       "      <td>2019-02-15 12:22:21</td>\n",
       "      <td>Friday</td>\n",
       "      <td>12:22PM crf2t5p1jcm5qn@web.libraryh3lp.com: Lo...</td>\n",
       "      <td>00:00:08</td>\n",
       "      <td>looking for sources related to colonization of...</td>\n",
       "      <td>8.0</td>\n",
       "    </tr>\n",
       "    <tr>\n",
       "      <th>4718</th>\n",
       "      <td>1435</td>\n",
       "      <td>00:10:14</td>\n",
       "      <td>9875545</td>\n",
       "      <td>web</td>\n",
       "      <td>https://resolver-ebscohost-com.proxy195.nclive...</td>\n",
       "      <td>2020-07-13 16:47:42</td>\n",
       "      <td>Monday</td>\n",
       "      <td>16:47PM 2wxgztrr3721d4@web.libraryh3lp.com: I ...</td>\n",
       "      <td>00:00:08</td>\n",
       "      <td>mass incarceration and the denied maternity of...</td>\n",
       "      <td>0.0</td>\n",
       "    </tr>\n",
       "    <tr>\n",
       "      <th>4853</th>\n",
       "      <td>1570</td>\n",
       "      <td>00:12:51</td>\n",
       "      <td>9764138</td>\n",
       "      <td>web</td>\n",
       "      <td>https://www.wcu.edu/hunter-library/</td>\n",
       "      <td>2020-06-19 19:23:10</td>\n",
       "      <td>Friday</td>\n",
       "      <td>19:23PM nnk26qmwgs50r6@web.libraryh3lp.com: HI...</td>\n",
       "      <td>00:00:05</td>\n",
       "      <td>hi, i'm trying to find a couple articles that ...</td>\n",
       "      <td>24.0</td>\n",
       "    </tr>\n",
       "  </tbody>\n",
       "</table>\n",
       "</div>"
      ],
      "text/plain": [
       "      Unnamed: 0  duration       id protocol  \\\n",
       "2698        2714  00:12:33  8225913      web   \n",
       "2873        2889  00:13:40  8176393      web   \n",
       "4718        1435  00:10:14  9875545      web   \n",
       "4853        1570  00:12:51  9764138      web   \n",
       "\n",
       "                                               referrer              started  \\\n",
       "2698                https://researchguides.wcu.edu/help  2019-03-04 08:29:55   \n",
       "2873      https://www.wcu.edu/hunter-library/index.aspx  2019-02-15 12:22:21   \n",
       "4718  https://resolver-ebscohost-com.proxy195.nclive...  2020-07-13 16:47:42   \n",
       "4853                https://www.wcu.edu/hunter-library/  2020-06-19 19:23:10   \n",
       "\n",
       "     started_day_of_week                                               text  \\\n",
       "2698              Monday  08:29AM 97qmsbabp9s096@web.libraryh3lp.com: Go...   \n",
       "2873              Friday  12:22PM crf2t5p1jcm5qn@web.libraryh3lp.com: Lo...   \n",
       "4718              Monday  16:47PM 2wxgztrr3721d4@web.libraryh3lp.com: I ...   \n",
       "4853              Friday  19:23PM nnk26qmwgs50r6@web.libraryh3lp.com: HI...   \n",
       "\n",
       "          wait                                         clean_text  AFINN  \n",
       "2698  00:00:09  good morning good morning how may i help you? ...   33.0  \n",
       "2873  00:00:08  looking for sources related to colonization of...    8.0  \n",
       "4718  00:00:08  mass incarceration and the denied maternity of...    0.0  \n",
       "4853  00:00:05  hi, i'm trying to find a couple articles that ...   24.0  "
      ]
     },
     "execution_count": 14,
     "metadata": {},
     "output_type": "execute_result"
    }
   ],
   "source": [
    "sample_chats"
   ]
  },
  {
   "cell_type": "code",
   "execution_count": 18,
   "id": "ff2ebb77-5165-438a-8c87-473a1b5ff407",
   "metadata": {},
   "outputs": [],
   "source": [
    "chats.to_csv('AFINN_sentiment.csv')\n",
    "sample_chats.to_csv('AFINN_samples.csv')\n",
    "AFINN_min.to_csv('AFINN_lowest.csv')"
   ]
  },
  {
   "cell_type": "code",
   "execution_count": null,
   "id": "cebb01ab-205f-4f39-95f0-ad6857194d0a",
   "metadata": {},
   "outputs": [],
   "source": []
  }
 ],
 "metadata": {
  "kernelspec": {
   "display_name": "Python 3 (ipykernel)",
   "language": "python",
   "name": "python3"
  },
  "language_info": {
   "codemirror_mode": {
    "name": "ipython",
    "version": 3
   },
   "file_extension": ".py",
   "mimetype": "text/x-python",
   "name": "python",
   "nbconvert_exporter": "python",
   "pygments_lexer": "ipython3",
   "version": "3.9.19"
  }
 },
 "nbformat": 4,
 "nbformat_minor": 5
}
