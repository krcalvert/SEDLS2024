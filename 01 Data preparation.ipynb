{
 "cells": [
  {
   "cell_type": "code",
   "execution_count": 1,
   "id": "78c494cf",
   "metadata": {},
   "outputs": [],
   "source": [
    "#Libraries\n",
    "\n",
    "import pandas as pd\n",
    "import numpy as np\n",
    "import re\n",
    "import datetime\n"
   ]
  },
  {
   "cell_type": "code",
   "execution_count": 2,
   "id": "6797b390",
   "metadata": {},
   "outputs": [],
   "source": [
    "#Ingest Libraryh3lp chat transcripts\n",
    "\n",
    "transcript_2019 = pd.read_csv(\"C:\\\\Users\\\\kcalvert\\\\Documents\\\\Data files\\\\Chat\\\\2019-2020-2021-metadata-and-transcripts\\\\2019-metadata-and-transcripts.csv\")\n",
    "transcript_2020 = pd.read_csv(\"C:\\\\Users\\\\kcalvert\\\\Documents\\\\Data files\\\\Chat\\\\2019-2020-2021-metadata-and-transcripts\\\\2020-metadata-and-transcripts.csv\")\n",
    "transcript_2021 = pd.read_csv(\"C:\\\\Users\\\\kcalvert\\\\Documents\\\\Data files\\\\Chat\\\\2019-2020-2021-metadata-and-transcripts\\\\2021-metadata-and-transcripts.csv\")\n",
    "transcript_2022 = pd.read_csv(\"C:\\\\Users\\\\kcalvert\\\\Documents\\\\Data files\\\\Chat\\\\2019-2020-2021-metadata-and-transcripts\\\\2022-metadata-and-transcripts.csv\")\n",
    "transcript_2023 = pd.read_csv(\"C:\\\\Users\\\\kcalvert\\\\Documents\\\\Data files\\\\Chat\\\\2019-2020-2021-metadata-and-transcripts\\\\2023-metadata-and-transcripts.csv\")\n",
    "\n",
    "#Combine files\n",
    "chats = pd.concat([transcript_2019,transcript_2020,transcript_2021,transcript_2022,transcript_2023],sort = True)"
   ]
  },
  {
   "cell_type": "code",
   "execution_count": 3,
   "id": "7e6a5629",
   "metadata": {},
   "outputs": [],
   "source": [
    "#Drop reference desk call button entries\n",
    "\n",
    "chats = chats[chats[\"profile\"] != \"refdeskbutton\"]"
   ]
  },
  {
   "cell_type": "code",
   "execution_count": 4,
   "id": "a4687a0b",
   "metadata": {},
   "outputs": [],
   "source": [
    "#Create dataframe without identifiers\n",
    "\n",
    "anon = chats.drop(columns=['guest','queue','profile','operator','ip','tags'])\n",
    "\n",
    "#Create functions to remove pii: email addresses, phone numbers, student ids, ip addresses\n",
    "def drop_email(data, default =\"email_address_removed\"):\n",
    "    data = re.sub('([\\w\\.\\-]+)@([\\w\\-]+)((\\.(\\w){2,63}){1,3})',default, str(data))\n",
    "    return data\n",
    "\n",
    "def drop_phone(data, default = \"phone_number\"):\n",
    "    data = re.sub('(?:(?:\\+?1\\s*(?:[.-]\\s*)?)?(?:\\(\\s*([2-9]1[02-9]|[2-9][02-8]1|[2-9][02-8][02-9])\\s*\\)|([2-9]1[02-9]|[2-9][02-8]1|[2-9][02-8][02-9]))\\s*(?:[.-]\\s*)?)?([2-9]1[02-9]|[2-9][02-9]1|[2-9][02-9]{2})\\s*(?:[.-]\\s*)?([0-9]{4})(?:\\s*(?:#|x\\.?|ext\\.?|extension)\\s*(\\d+))?',default,str(data))\n",
    "    return data\n",
    "\n",
    "def drop_ip(data, default = \"ip_address\"):\n",
    "    data = re.sub('(([0-9]|[1-9][0-9]|1[0-9]{2}|2[0-4][0-9]|25[0-5])\\.){3}([0-9]|[1-9][0-9]|1[0-9]{2}|2[0-4][0-9]|25[0-5])',default,str(data))\n",
    "    return data\n",
    "\n",
    "def drop_920(data, default= 'student_id'):\n",
    "    data = re.sub('920[0-9]{6}',default,str(data))\n",
    "    return data\n",
    "\n",
    "\n",
    "#Functions to strip out the timestamp and user information from the text of the chat \n",
    "#e.g. Original 19:22PM email_address_removed/2ugkwfef2ar45t: Gotcha! Is there anything else I can help you with? \n",
    "#e.g. Original 7:26PM kgp25xjqxn8n6g@web.libraryh3lp.com: Can the public use the campus library?\n",
    "#e.g. Edited Gotcha! Is there anything else I can help you with?\n",
    "\n",
    "def strip_chat_time_user(data, default=\"\"):\n",
    "    data = re.sub('[0-9]{1,2}:[0-9]{2}[A-z]{2}.*\\:\\s',default,str(data))\n",
    "    return data\n",
    "\n",
    "#Functions to replace URLs, emoji, repeated punctuation, and contractions\n",
    "def drop_url(data,default=\"URL\"):\n",
    "    data = re.sub('(http|https):\\/\\/\\S+',default,str(data))\n",
    "    return data\n",
    "\n",
    "def word_repetition(data):\n",
    "    data = re.sub(r'(.)\\1+', r'\\1\\1',str(data))\n",
    "    return data\n",
    "\n",
    "def drop_pii(data):\n",
    "    data = drop_email(data)\n",
    "    data = drop_920(data)\n",
    "    data = drop_phone(data)\n",
    "    data = drop_ip(data)\n",
    "    return data\n",
    "\n",
    "def clean_chat(data):\n",
    "    data = drop_email(data)\n",
    "    data = drop_920(data)\n",
    "    data = drop_phone(data)\n",
    "    data = drop_ip(data)\n",
    "    data = strip_chat_time_user(data)\n",
    "    data = drop_pii(data)\n",
    "    data = drop_url(data)\n",
    "    data = str(data).lower()\n",
    "    data = re.sub('\\r\\n',' ',data)\n",
    "    return data"
   ]
  },
  {
   "cell_type": "code",
   "execution_count": 5,
   "id": "6a050a86",
   "metadata": {},
   "outputs": [],
   "source": [
    "#Clean data\n",
    "anon[\"clean_text\"] = anon[\"text\"].apply(clean_chat)"
   ]
  },
  {
   "cell_type": "code",
   "execution_count": 6,
   "id": "56078ff7",
   "metadata": {},
   "outputs": [],
   "source": [
    "anon.to_csv('sedlc_cleaned_chats.csv')"
   ]
  },
  {
   "cell_type": "code",
   "execution_count": null,
   "id": "c2f57378",
   "metadata": {},
   "outputs": [],
   "source": []
  }
 ],
 "metadata": {
  "kernelspec": {
   "display_name": "Python 3 (ipykernel)",
   "language": "python",
   "name": "python3"
  },
  "language_info": {
   "codemirror_mode": {
    "name": "ipython",
    "version": 3
   },
   "file_extension": ".py",
   "mimetype": "text/x-python",
   "name": "python",
   "nbconvert_exporter": "python",
   "pygments_lexer": "ipython3",
   "version": "3.9.19"
  }
 },
 "nbformat": 4,
 "nbformat_minor": 5
}
