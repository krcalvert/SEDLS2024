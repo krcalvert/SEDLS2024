{
 "cells": [
  {
   "cell_type": "code",
   "execution_count": 5,
   "id": "9f05ac13-394e-42b7-984e-ff7afe0ea187",
   "metadata": {},
   "outputs": [],
   "source": [
    "import spacy\n",
    "from nltk.sentiment.vader import SentimentIntensityAnalyzer\n",
    "sid = SentimentIntensityAnalyzer()\n",
    "import pandas as pd\n",
    "import timeit"
   ]
  },
  {
   "cell_type": "code",
   "execution_count": 3,
   "id": "8e66728e-e808-4557-844e-de613c9dac18",
   "metadata": {},
   "outputs": [],
   "source": [
    "nlp = spacy.load('en_core_web_lg')"
   ]
  },
  {
   "cell_type": "code",
   "execution_count": 6,
   "id": "cc8d3b1b-3b1f-4e99-8ae5-8dab13a98b68",
   "metadata": {},
   "outputs": [],
   "source": [
    "chats = pd.read_csv('sedlc_cleaned_chats.csv')"
   ]
  },
  {
   "cell_type": "code",
   "execution_count": 7,
   "id": "cf96c392-8605-4536-8b88-64b796d796c4",
   "metadata": {},
   "outputs": [],
   "source": [
    "def review_rating(string):\n",
    "    scores = sid.polarity_scores(string)\n",
    "    if scores['compound'] == 0:\n",
    "        return 'Neutral'\n",
    "    elif scores['compound'] > 0:\n",
    "        return 'Positive'\n",
    "    else:\n",
    "        return 'Negative'"
   ]
  },
  {
   "cell_type": "code",
   "execution_count": 11,
   "id": "ac6f6113-2b5c-4210-8b5e-8eb5862197b7",
   "metadata": {},
   "outputs": [
    {
     "name": "stdout",
     "output_type": "stream",
     "text": [
      "14.3905393\n"
     ]
    }
   ],
   "source": [
    "# start runtime timer\n",
    "start = timeit.default_timer()\n",
    "\n",
    "# analyze chats\n",
    "\n",
    "chats[\"VADER\"] = chats[\"clean_text\"].apply(lambda chat: sid.polarity_scores(str(chat)))\n",
    "\n",
    "# stop runtime timer\n",
    "stop = timeit.default_timer()\n",
    "\n",
    "VADER_time = stop - start  \n",
    "print(VADER_time)"
   ]
  },
  {
   "cell_type": "code",
   "execution_count": 21,
   "id": "c0d98605-4cc9-4099-a01f-8452f6d5857e",
   "metadata": {},
   "outputs": [],
   "source": [
    "#extract each VADER scores\n",
    "\n",
    "chats[\"VADER_neg\"] = chats[\"VADER\"].apply(lambda d:d['neg'])\n",
    "chats[\"VADER_neu\"] = chats[\"VADER\"].apply(lambda d:d['neu'])\n",
    "chats[\"VADER_pos\"] = chats[\"VADER\"].apply(lambda d:d['pos'])\n",
    "chats[\"VADER_combo\"] = chats[\"VADER\"].apply(lambda d:d['compound'])\n",
    "\n"
   ]
  },
  {
   "cell_type": "code",
   "execution_count": 23,
   "id": "152e7e76-8c43-4e59-8a3a-0e83e102720f",
   "metadata": {},
   "outputs": [
    {
     "name": "stdout",
     "output_type": "stream",
     "text": [
      "0.031\n"
     ]
    }
   ],
   "source": [
    "print(chats[\"VADER_neg\"][1])"
   ]
  },
  {
   "cell_type": "code",
   "execution_count": 30,
   "id": "d0cc3f97-96e3-4599-bf1a-91b66c45cc6a",
   "metadata": {},
   "outputs": [
    {
     "name": "stdout",
     "output_type": "stream",
     "text": [
      "      Unnamed: 0  duration       id protocol  \\\n",
      "2693        2709  00:37:57  8226303      web   \n",
      "\n",
      "                                      referrer              started  \\\n",
      "2693  https://www.wcu.edu/hunter-library/help/  2019-03-04 10:39:30   \n",
      "\n",
      "     started_day_of_week                                               text  \\\n",
      "2693              Monday  10:39AM 8f0j11cyn14ngq@web.libraryh3lp.com: He...   \n",
      "\n",
      "          wait                                         clean_text  \\\n",
      "2693  00:00:24  hello, i am looking for specific articles rela...   \n",
      "\n",
      "                                                    NRC  \\\n",
      "2693  {'neg': 0.139, 'neu': 0.8, 'pos': 0.061, 'comp...   \n",
      "\n",
      "                                                  VADER  VADER_neg  VADER_neu  \\\n",
      "2693  {'neg': 0.139, 'neu': 0.8, 'pos': 0.061, 'comp...      0.139        0.8   \n",
      "\n",
      "      VADER_pos  VADER_combo  \n",
      "2693      0.061      -0.9939  \n"
     ]
    }
   ],
   "source": [
    "# Save lowest VADER score\n",
    "\n",
    "max_neg = chats[chats.index==chats[\"VADER_neg\"].idxmax()]\n",
    "max_combo = chats[chats.index==chats[\"VADER_combo\"].idxmin()]\n",
    "\n",
    "print(max_combo)"
   ]
  },
  {
   "cell_type": "code",
   "execution_count": 31,
   "id": "6abd1993-b41e-4f2b-a997-4c54a079d3d3",
   "metadata": {},
   "outputs": [],
   "source": [
    "# Selected chats\n",
    "\n",
    "x = [8176393, 8225913, 9764138, 9875545]\n",
    "\n",
    "sample_chats = chats.loc[chats['id'].isin(x)]\n"
   ]
  },
  {
   "cell_type": "code",
   "execution_count": 32,
   "id": "2e863fd8-62e6-4804-8abe-687d7b35b6e8",
   "metadata": {},
   "outputs": [],
   "source": [
    "chats.to_csv('VADER_sentiment.csv')\n",
    "sample_chats.to_csv('VADER_samples.csv')\n",
    "VADER_min.to_csv('VADER_lowest.csv')\n",
    "max_neg.to_csv('VADER_most_neg.csv')\n",
    "max_combo.to_csv('VADER_min.csv')\n"
   ]
  },
  {
   "cell_type": "code",
   "execution_count": null,
   "id": "a5a919f3-c63d-4466-a3ae-eabea288f3c1",
   "metadata": {},
   "outputs": [],
   "source": []
  }
 ],
 "metadata": {
  "kernelspec": {
   "display_name": "Python 3 (ipykernel)",
   "language": "python",
   "name": "python3"
  },
  "language_info": {
   "codemirror_mode": {
    "name": "ipython",
    "version": 3
   },
   "file_extension": ".py",
   "mimetype": "text/x-python",
   "name": "python",
   "nbconvert_exporter": "python",
   "pygments_lexer": "ipython3",
   "version": "3.9.19"
  }
 },
 "nbformat": 4,
 "nbformat_minor": 5
}
