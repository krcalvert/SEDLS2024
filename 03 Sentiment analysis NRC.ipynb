{
 "cells": [
  {
   "cell_type": "code",
   "execution_count": 5,
   "id": "c6620242",
   "metadata": {},
   "outputs": [],
   "source": [
    "#NRC Emotion Lexicon https://github.com/mary123mary/EmoLexGram \n",
    "#Creators of Lexicon: Saif M. Mohammad and Peter D. Turney https://www.saifmohammad.com/WebPages/AccessResource.htm\n",
    "\n",
    "#Libraries\n",
    "import pandas as pd\n",
    "import numpy as np\n",
    "from EmoLexGram import emolexgram_main as ELG\n",
    "import timeit"
   ]
  },
  {
   "cell_type": "code",
   "execution_count": 2,
   "id": "488f365e",
   "metadata": {},
   "outputs": [],
   "source": [
    "chats = pd.read_csv('sedlc_cleaned_chats.csv')"
   ]
  },
  {
   "cell_type": "code",
   "execution_count": 6,
   "id": "e58818ad",
   "metadata": {},
   "outputs": [
    {
     "name": "stdout",
     "output_type": "stream",
     "text": [
      "16795.6858063\n"
     ]
    }
   ],
   "source": [
    "#Runtime 4.5hrs\n",
    "\n",
    "# start runtime timer\n",
    "start = timeit.default_timer()\n",
    "\n",
    "# analyze chats\n",
    "chats[\"NRC\"] = chats[\"clean_text\"].apply(lambda chat: ELG(str(chat)))\n",
    "\n",
    "# stop runtime timer\n",
    "stop = timeit.default_timer()\n",
    "\n",
    "NRC_time = stop - start  \n",
    "print(NRC_time)"
   ]
  },
  {
   "cell_type": "code",
   "execution_count": 7,
   "id": "34179b98",
   "metadata": {},
   "outputs": [],
   "source": [
    "#Extract score for each emotion\n",
    "chats[\"NRC_anticipation\"] = chats[\"NRC\"].apply(lambda d:d['anticipation'])\n",
    "chats[\"NRC_disgust\"] = chats[\"NRC\"].apply(lambda d:d['disgust'])\n",
    "chats[\"NRC_fear\"] = chats[\"NRC\"].apply(lambda d:d['fear'])\n",
    "chats[\"NRC_joy\"] = chats[\"NRC\"].apply(lambda d:d['joy'])\n",
    "chats[\"NRC_neg\"] = chats[\"NRC\"].apply(lambda d:d['negative'])\n",
    "chats[\"NRC_pos\"] = chats[\"NRC\"].apply(lambda d:d['positive'])\n",
    "chats[\"NRC_sadness\"] = chats[\"NRC\"].apply(lambda d:d['sadness'])\n",
    "chats[\"NRC_surprise\"] = chats[\"NRC\"].apply(lambda d:d['surprise'])\n",
    "chats[\"NRC_trust\"] = chats[\"NRC\"].apply(lambda d:d['trust'])\n",
    "\n"
   ]
  },
  {
   "cell_type": "code",
   "execution_count": 8,
   "id": "5b9db94e",
   "metadata": {},
   "outputs": [
    {
     "data": {
      "text/html": [
       "<div>\n",
       "<style scoped>\n",
       "    .dataframe tbody tr th:only-of-type {\n",
       "        vertical-align: middle;\n",
       "    }\n",
       "\n",
       "    .dataframe tbody tr th {\n",
       "        vertical-align: top;\n",
       "    }\n",
       "\n",
       "    .dataframe thead th {\n",
       "        text-align: right;\n",
       "    }\n",
       "</style>\n",
       "<table border=\"1\" class=\"dataframe\">\n",
       "  <thead>\n",
       "    <tr style=\"text-align: right;\">\n",
       "      <th></th>\n",
       "      <th>NRC_pos</th>\n",
       "      <th>NRC_neg</th>\n",
       "    </tr>\n",
       "  </thead>\n",
       "  <tbody>\n",
       "    <tr>\n",
       "      <th>Positive_Score</th>\n",
       "      <td>0.024564</td>\n",
       "      <td>NaN</td>\n",
       "    </tr>\n",
       "    <tr>\n",
       "      <th>Negative_score</th>\n",
       "      <td>NaN</td>\n",
       "      <td>0.007137</td>\n",
       "    </tr>\n",
       "  </tbody>\n",
       "</table>\n",
       "</div>"
      ],
      "text/plain": [
       "                 NRC_pos   NRC_neg\n",
       "Positive_Score  0.024564       NaN\n",
       "Negative_score       NaN  0.007137"
      ]
     },
     "execution_count": 8,
     "metadata": {},
     "output_type": "execute_result"
    }
   ],
   "source": [
    "#Summary table\n",
    "chats.agg(Positive_Score = (\"NRC_pos\", \"mean\"), Negative_score = (\"NRC_neg\",\"mean\"))"
   ]
  },
  {
   "cell_type": "code",
   "execution_count": 15,
   "id": "966e3dda-b07e-4758-a7eb-e8f847b7ec7b",
   "metadata": {},
   "outputs": [
    {
     "name": "stdout",
     "output_type": "stream",
     "text": [
      "      Unnamed: 0  duration        id protocol              referrer  \\\n",
      "8300         549  00:00:01  13154266      web  https://www.wcu.edu/   \n",
      "\n",
      "                  started started_day_of_week  \\\n",
      "8300  2022-08-16 17:45:11             Tuesday   \n",
      "\n",
      "                                                   text      wait  \\\n",
      "8300  17:45PM zvyj24dsr25gsz@web.libraryh3lp.com: Ok...  00:00:05   \n",
      "\n",
      "                   clean_text  \\\n",
      "8300  ok thanks! no problem!    \n",
      "\n",
      "                                                    NRC  NRC_anticipation  \\\n",
      "8300  {'text': 'ok thanks! no problem! ', 'anger': 0...               0.0   \n",
      "\n",
      "      NRC_disgust  NRC_fear  NRC_joy   NRC_neg  NRC_pos  NRC_sadness  \\\n",
      "8300          0.0  0.166667      0.0  0.166667      0.0     0.166667   \n",
      "\n",
      "      NRC_surprise  NRC_trust  \n",
      "8300           0.0        0.0  \n"
     ]
    }
   ],
   "source": [
    "# Locate the chat with the most negative score\n",
    "\n",
    "NRC_min = chats[chats.index==chats[\"NRC_neg\"].idxmax()]"
   ]
  },
  {
   "cell_type": "code",
   "execution_count": 16,
   "id": "8a2f3df6",
   "metadata": {},
   "outputs": [
    {
     "name": "stdout",
     "output_type": "stream",
     "text": [
      "      Unnamed: 0  duration       id protocol  \\\n",
      "2698        2714  00:12:33  8225913      web   \n",
      "2873        2889  00:13:40  8176393      web   \n",
      "4718        1435  00:10:14  9875545      web   \n",
      "4853        1570  00:12:51  9764138      web   \n",
      "\n",
      "                                               referrer              started  \\\n",
      "2698                https://researchguides.wcu.edu/help  2019-03-04 08:29:55   \n",
      "2873      https://www.wcu.edu/hunter-library/index.aspx  2019-02-15 12:22:21   \n",
      "4718  https://resolver-ebscohost-com.proxy195.nclive...  2020-07-13 16:47:42   \n",
      "4853                https://www.wcu.edu/hunter-library/  2020-06-19 19:23:10   \n",
      "\n",
      "     started_day_of_week                                               text  \\\n",
      "2698              Monday  08:29AM 97qmsbabp9s096@web.libraryh3lp.com: Go...   \n",
      "2873              Friday  12:22PM crf2t5p1jcm5qn@web.libraryh3lp.com: Lo...   \n",
      "4718              Monday  16:47PM 2wxgztrr3721d4@web.libraryh3lp.com: I ...   \n",
      "4853              Friday  19:23PM nnk26qmwgs50r6@web.libraryh3lp.com: HI...   \n",
      "\n",
      "          wait                                         clean_text  \\\n",
      "2698  00:00:09  good morning good morning how may i help you? ...   \n",
      "2873  00:00:08  looking for sources related to colonization of...   \n",
      "4718  00:00:08  mass incarceration and the denied maternity of...   \n",
      "4853  00:00:05  hi, i'm trying to find a couple articles that ...   \n",
      "\n",
      "                                                    NRC  NRC_anticipation  \\\n",
      "2698  {'text': 'good morning good morning how may i ...          0.028881   \n",
      "2873  {'text': 'looking for sources related to colon...          0.019663   \n",
      "4718  {'text': 'mass incarceration and the denied ma...          0.007299   \n",
      "4853  {'text': 'hi, i'm trying to find a couple arti...          0.010274   \n",
      "\n",
      "      NRC_disgust  NRC_fear   NRC_joy   NRC_neg   NRC_pos  NRC_sadness  \\\n",
      "2698          0.0  0.003610  0.018051  0.003610  0.057762     0.010830   \n",
      "2873          0.0  0.005618  0.008427  0.008427  0.016854     0.008427   \n",
      "4718          0.0  0.007299  0.000000  0.014599  0.014599     0.007299   \n",
      "4853          0.0  0.000000  0.003425  0.000000  0.020548     0.000000   \n",
      "\n",
      "      NRC_surprise  NRC_trust  \n",
      "2698      0.010830   0.032491  \n",
      "2873      0.002809   0.028090  \n",
      "4718      0.000000   0.014599  \n",
      "4853      0.000000   0.017123  \n"
     ]
    }
   ],
   "source": [
    "# Locate selected sample chats for manual review \n",
    "\n",
    "x = [8176393, 8225913, 9764138, 9875545]\n",
    "\n",
    "sample_chats = chats.loc[chats['id'].isin(x)]"
   ]
  },
  {
   "cell_type": "code",
   "execution_count": 19,
   "id": "8d70d0d5",
   "metadata": {},
   "outputs": [],
   "source": [
    "chats.to_csv('NRC_sentiment.csv')\n",
    "sample_chats.to_csv('NRC_samples.csv')\n",
    "NRC_min.to_csv('NRC_lowest.csv')"
   ]
  },
  {
   "cell_type": "code",
   "execution_count": null,
   "id": "8bd282a0-6b0c-40f9-a3f2-e64429a49d76",
   "metadata": {},
   "outputs": [],
   "source": []
  }
 ],
 "metadata": {
  "kernelspec": {
   "display_name": "Python 3 (ipykernel)",
   "language": "python",
   "name": "python3"
  },
  "language_info": {
   "codemirror_mode": {
    "name": "ipython",
    "version": 3
   },
   "file_extension": ".py",
   "mimetype": "text/x-python",
   "name": "python",
   "nbconvert_exporter": "python",
   "pygments_lexer": "ipython3",
   "version": "3.9.19"
  }
 },
 "nbformat": 4,
 "nbformat_minor": 5
}
